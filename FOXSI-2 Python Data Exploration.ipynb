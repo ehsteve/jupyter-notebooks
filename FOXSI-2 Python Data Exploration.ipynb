{
 "cells": [
  {
   "cell_type": "code",
   "execution_count": null,
   "metadata": {
    "collapsed": true
   },
   "outputs": [],
   "source": [
    "from scipy.io import readsav\n",
    "import pandas as pd\n",
    "import matplotlib.pyplot as plt\n",
    "%matplotlib inline\n",
    "import h5py\n",
    "import numpy as np"
   ]
  },
  {
   "cell_type": "code",
   "execution_count": null,
   "metadata": {
    "collapsed": true
   },
   "outputs": [],
   "source": [
    "f = '/Users/schriste/Data/FOXSI-2-flight/foxsi_level2_data.sav'"
   ]
  },
  {
   "cell_type": "code",
   "execution_count": null,
   "metadata": {
    "collapsed": false
   },
   "outputs": [],
   "source": [
    "foxsi2 = readsav(f)"
   ]
  },
  {
   "cell_type": "code",
   "execution_count": null,
   "metadata": {
    "collapsed": false
   },
   "outputs": [],
   "source": [
    "foxsi2"
   ]
  },
  {
   "cell_type": "code",
   "execution_count": null,
   "metadata": {
    "collapsed": false
   },
   "outputs": [],
   "source": [
    "foxsi2['data_lvl2_d0'][0]"
   ]
  },
  {
   "cell_type": "code",
   "execution_count": null,
   "metadata": {
    "collapsed": false
   },
   "outputs": [],
   "source": [
    "foxsi2['data_lvl2_d0'][1]"
   ]
  },
  {
   "cell_type": "code",
   "execution_count": null,
   "metadata": {
    "collapsed": false
   },
   "outputs": [],
   "source": [
    "[data[0] for data in foxsi2['data_lvl2_d0']]"
   ]
  },
  {
   "cell_type": "code",
   "execution_count": null,
   "metadata": {
    "collapsed": false
   },
   "outputs": [],
   "source": []
  },
  {
   "cell_type": "code",
   "execution_count": null,
   "metadata": {
    "collapsed": true
   },
   "outputs": [],
   "source": [
    "foxsi2_pd = pd.DataFrame(data=[data[0] for data in foxsi2['data_lvl2_d0']], columns=['frame_counter'])\n",
    "foxsi2_pd['wsmr_time'] = [data[1] for data in foxsi2['data_lvl2_d0']]\n",
    "foxsi2_pd['frame_time'] = [data[2] for data in foxsi2['data_lvl2_d0']]\n",
    "foxsi2_pd['detector_number'] = [data[3] for data in foxsi2['data_lvl2_d0']]\n",
    "foxsi2_pd['trigger_time'] = [data[4] for data in foxsi2['data_lvl2_d0']]\n",
    "foxsi2_pd['livetime'] = [data[5] for data in foxsi2['data_lvl2_d0']]\n",
    "foxsi2_pd['energy1'] = [data[6][0] for data in foxsi2['data_lvl2_d0']]\n",
    "foxsi2_pd['energy2'] = [data[6][1] for data in foxsi2['data_lvl2_d0']]\n",
    "foxsi2_pd['hit_xy_det_x'] = [data[7][0] for data in foxsi2['data_lvl2_d0']]\n",
    "foxsi2_pd['hit_xy_det_y'] = [data[7][1] for data in foxsi2['data_lvl2_d0']]\n",
    "foxsi2_pd['hit_xy_payload_x'] = [data[8][0] for data in foxsi2['data_lvl2_d0']]\n",
    "foxsi2_pd['hit_xy_payload_y'] = [data[8][1] for data in foxsi2['data_lvl2_d0']]\n",
    "foxsi2_pd['hit_xy_solar_x'] = [data[9][0] for data in foxsi2['data_lvl2_d0']]\n",
    "foxsi2_pd['hit_xy_solar_y'] = [data[9][1] for data in foxsi2['data_lvl2_d0']]\n",
    "foxsi2_pd['hv'] = [data[13] for data in foxsi2['data_lvl2_d0']]\n",
    "foxsi2_pd['temperature'] = [data[14] for data in foxsi2['data_lvl2_d0']]\n",
    "foxsi2_pd['inflight'] = [data[15] for data in foxsi2['data_lvl2_d0']]\n",
    "foxsi2_pd['altitude'] = [data[16] for data in foxsi2['data_lvl2_d0']]\n",
    "foxsi2_pd['pitch'] = [data[17] for data in foxsi2['data_lvl2_d0']]\n",
    "foxsi2_pd['yaw'] = [data[18] for data in foxsi2['data_lvl2_d0']]\n",
    "foxsi2_pd['error_flag'] = [data[19] for data in foxsi2['data_lvl2_d0']]"
   ]
  },
  {
   "cell_type": "code",
   "execution_count": null,
   "metadata": {
    "collapsed": false
   },
   "outputs": [],
   "source": [
    "foxsi2_pd"
   ]
  },
  {
   "cell_type": "code",
   "execution_count": null,
   "metadata": {
    "collapsed": false
   },
   "outputs": [],
   "source": [
    "foxsi2_pd.columns"
   ]
  },
  {
   "cell_type": "code",
   "execution_count": null,
   "metadata": {
    "collapsed": false
   },
   "outputs": [],
   "source": [
    "foxsi2_pd['temperature'].plot()"
   ]
  },
  {
   "cell_type": "code",
   "execution_count": null,
   "metadata": {
    "collapsed": false
   },
   "outputs": [],
   "source": [
    "foxsi2_pd['hv'].plot()"
   ]
  },
  {
   "cell_type": "code",
   "execution_count": null,
   "metadata": {
    "collapsed": false
   },
   "outputs": [],
   "source": [
    "foxsi2_pd['frame_counter'].plot()"
   ]
  },
  {
   "cell_type": "code",
   "execution_count": null,
   "metadata": {
    "collapsed": false
   },
   "outputs": [],
   "source": [
    "foxsi2_pd['wsmr_time'].plot()"
   ]
  },
  {
   "cell_type": "code",
   "execution_count": null,
   "metadata": {
    "collapsed": false
   },
   "outputs": [],
   "source": [
    "foxsi2_pd['hit_xy_payload_x'].plot()"
   ]
  },
  {
   "cell_type": "code",
   "execution_count": null,
   "metadata": {
    "collapsed": false
   },
   "outputs": [],
   "source": [
    "foxsi2_pd['hit_xy_solar_x'].plot()"
   ]
  },
  {
   "cell_type": "code",
   "execution_count": null,
   "metadata": {
    "collapsed": false
   },
   "outputs": [],
   "source": []
  },
  {
   "cell_type": "code",
   "execution_count": null,
   "metadata": {
    "collapsed": false
   },
   "outputs": [],
   "source": [
    "h = h5py.File('foxsi2.hdf5','w')"
   ]
  },
  {
   "cell_type": "code",
   "execution_count": null,
   "metadata": {
    "collapsed": false
   },
   "outputs": [],
   "source": [
    "h.create_group('level2')"
   ]
  },
  {
   "cell_type": "code",
   "execution_count": null,
   "metadata": {
    "collapsed": true
   },
   "outputs": [],
   "source": [
    "grp = h['level2']"
   ]
  },
  {
   "cell_type": "code",
   "execution_count": null,
   "metadata": {
    "collapsed": false
   },
   "outputs": [],
   "source": [
    "for index in foxsi2:\n",
    "    name = 'detector' + str(index[-1])\n",
    "    det = grp.create_group(name)\n",
    "    num_photons = len([data[0] for data in foxsi2[index]])\n",
    "    dset = det.create_dataset('frame_counter', (num_photons,), data=np.array([data[0] for data in foxsi2[index]]), compression=\"gzip\", compression_opts=9)\n",
    "    dset = det.create_dataset('wsmr_time', (num_photons,), data=np.array([data[1] for data in foxsi2[index]]), compression=\"gzip\", compression_opts=9)\n",
    "    dset = det.create_dataset('frame_time', (num_photons,), data=np.array([data[2] for data in foxsi2[index]]), compression=\"gzip\", compression_opts=9)\n",
    "    dset = det.create_dataset('detector_number', (num_photons,), data=np.array([data[3] for data in foxsi2[index]]), compression=\"gzip\", compression_opts=9)\n",
    "    dset = det.create_dataset('trigger_time', (num_photons,), data=np.array([data[4] for data in foxsi2[index]]), compression=\"gzip\", compression_opts=9)\n",
    "    dset = det.create_dataset('livetime', (num_photons,), data=np.array([data[5] for data in foxsi2[index]]), compression=\"gzip\", compression_opts=9)\n",
    "    dset = det.create_dataset('energy1', (num_photons,), data=np.array([data[6][0] for data in foxsi2[index]]), compression=\"gzip\", compression_opts=9)\n",
    "    dset = det.create_dataset('energy2', (num_photons,), data=np.array([data[6][1] for data in foxsi2[index]]), compression=\"gzip\", compression_opts=9)\n",
    "    dset = det.create_dataset('hit_xy_det', (num_photons,2), data=np.array([data[7] for data in foxsi2[index]]), compression=\"gzip\", compression_opts=9)\n",
    "    dset = det.create_dataset('hit_xy_payload', (num_photons,2), data=np.array([data[8] for data in foxsi2[index]]), compression=\"gzip\", compression_opts=9)\n",
    "    dset = det.create_dataset('hit_xy_solar', (num_photons,2), data=np.array([data[9] for data in foxsi2[index]]), compression=\"gzip\", compression_opts=9)\n",
    "    dset = det.create_dataset('hv', (num_photons,), data=np.array([data[13] for data in foxsi2[index]]), compression=\"gzip\", compression_opts=9)\n",
    "    dset = det.create_dataset('temperature', (num_photons,), data=np.array([data[14] for data in foxsi2[index]]), compression=\"gzip\", compression_opts=9)\n",
    "    dset = det.create_dataset('inflight', (num_photons,), data=np.array([data[15] for data in foxsi2[index]]), compression=\"gzip\", compression_opts=9)\n",
    "    dset = det.create_dataset('altitude', (num_photons,), data=np.array([data[16] for data in foxsi2[index]]), compression=\"gzip\", compression_opts=9)\n",
    "    dset = det.create_dataset('pitch', (num_photons,), data=np.array([data[17] for data in foxsi2[index]]), compression=\"gzip\", compression_opts=9)\n",
    "    dset = det.create_dataset('yaw', (num_photons,), data=np.array([data[18] for data in foxsi2[index]]), compression=\"gzip\", compression_opts=9)\n",
    "    dset = det.create_dataset('error_flag', (num_photons,), data=np.array([data[19] for data in foxsi2[index]]), compression=\"gzip\", compression_opts=9)"
   ]
  },
  {
   "cell_type": "code",
   "execution_count": null,
   "metadata": {
    "collapsed": true
   },
   "outputs": [],
   "source": [
    "h.flush()"
   ]
  },
  {
   "cell_type": "code",
   "execution_count": null,
   "metadata": {
    "collapsed": false
   },
   "outputs": [],
   "source": [
    "h.close()"
   ]
  },
  {
   "cell_type": "code",
   "execution_count": null,
   "metadata": {
    "collapsed": false
   },
   "outputs": [],
   "source": [
    "pwd   "
   ]
  },
  {
   "cell_type": "code",
   "execution_count": null,
   "metadata": {
    "collapsed": true
   },
   "outputs": [],
   "source": [
    "h = h5py.File('foxsi2.hdf5','r')"
   ]
  },
  {
   "cell_type": "code",
   "execution_count": null,
   "metadata": {
    "collapsed": false
   },
   "outputs": [],
   "source": [
    "h.items()"
   ]
  },
  {
   "cell_type": "code",
   "execution_count": null,
   "metadata": {
    "collapsed": false
   },
   "outputs": [],
   "source": [
    "h['level2'].items()"
   ]
  },
  {
   "cell_type": "code",
   "execution_count": null,
   "metadata": {
    "collapsed": false
   },
   "outputs": [],
   "source": [
    "h['level2/detector0'].items()"
   ]
  },
  {
   "cell_type": "markdown",
   "metadata": {},
   "source": [
    "Load the hdf5 file into a pandas data frame"
   ]
  },
  {
   "cell_type": "code",
   "execution_count": null,
   "metadata": {
    "collapsed": false
   },
   "outputs": [],
   "source": [
    "for i, col in enumerate(h['level2/detector0']):\n",
    "    if i == 0:\n",
    "        det0 = pd.DataFrame(data=h['level2/detector0'][col][:], columns=[col])\n",
    "    else:\n",
    "        data = h['level2/detector0'][col][:]\n",
    "        if len(data.shape) == 1:\n",
    "            det0[col] = pd.DataFrame(data=data)\n",
    "        else:\n",
    "            det0[col+'_x'] = pd.DataFrame(data=data[:,0])\n",
    "            det0[col+'_y'] = pd.DataFrame(data=data[:,1])"
   ]
  },
  {
   "cell_type": "code",
   "execution_count": null,
   "metadata": {
    "collapsed": false
   },
   "outputs": [],
   "source": [
    "det0"
   ]
  },
  {
   "cell_type": "code",
   "execution_count": null,
   "metadata": {
    "collapsed": false
   },
   "outputs": [],
   "source": [
    "det0['wsmr_time'].plot()"
   ]
  },
  {
   "cell_type": "code",
   "execution_count": null,
   "metadata": {
    "collapsed": true
   },
   "outputs": [],
   "source": []
  }
 ],
 "metadata": {
  "kernelspec": {
   "display_name": "Python 2",
   "language": "python",
   "name": "python2"
  },
  "language_info": {
   "codemirror_mode": {
    "name": "ipython",
    "version": 2
   },
   "file_extension": ".py",
   "mimetype": "text/x-python",
   "name": "python",
   "nbconvert_exporter": "python",
   "pygments_lexer": "ipython2",
   "version": "2.7.11"
  }
 },
 "nbformat": 4,
 "nbformat_minor": 0
}
